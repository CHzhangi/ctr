{
 "cells": [
  {
   "cell_type": "code",
   "execution_count": null,
   "metadata": {},
   "outputs": [],
   "source": [
    "import os\n",
    "import pickle\n",
    "\n",
    "import pandas as pd\n",
    "import torch\n",
    "from sklearn.utils import shuffle\n",
    "\n",
    "from script.DSSMTrainable import DSSMTrainable\n",
    "\n",
    "user_cols = ['UserID','Gender','Age','JobID']\n",
    "item_cols = ['MovieID', 'ratings_count', 'ratings_mean']\n",
    "\n",
    "def parse_opt():\n",
    "    parser = argparse.ArgumentParser()\n",
    "    # python main.py --data_path dataset/ml-1m/feature --model_path checkpont --whether_train train --epochs 10 --batch_size 2048\n",
    "    # --dropout 0.0 --lr 0.001 --optimizer Adam --device gpu --encode_min 0.0 --neg_sampling 5 --use_senet True\n",
    "    # Data Info\n",
    "    parser.add_argument('--data_path', type=str, default='dataset/ml-1m/feature')\n",
    "    parser.add_argument('--model_path', type=str, default='checkpoint/')\n",
    "    parser.add_argument('--whether_train', type=str, default='train')\n",
    "\n",
    "    # hy-params info\n",
    "    parser.add_argument('--epochs', type=int, default=10)\n",
    "    parser.add_argument('--batch_size', type=int, default=2048)\n",
    "    parser.add_argument('--shuffle', type=bool, default=True)\n",
    "    parser.add_argument('--dropout', type=float, default=0.0)\n",
    "    parser.add_argument('--lr', type=float, default=0.001)\n",
    "    parser.add_argument('--optimizer', type=str, default='Adam')\n",
    "    parser.add_argument('--device', type=str, default='gpu')\n",
    "    parser.add_argument('--encode_min', type=float, default=0.0)\n",
    "    parser.add_argument('--neg_sampling', type=int, default=5)\n",
    "    parser.add_argument('--use_senet', type=bool, default=True)\n",
    "\n",
    "    args = parser.parse_args()\n",
    "    return args"
   ]
  }
 ],
 "metadata": {
  "language_info": {
   "name": "python"
  }
 },
 "nbformat": 4,
 "nbformat_minor": 2
}
